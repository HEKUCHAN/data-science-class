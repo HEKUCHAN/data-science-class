{
  "cells": [
    {
      "cell_type": "code",
      "source": [
        "import numpy as np"
      ],
      "metadata": {
        "id": "TN4YZP_JHs1g"
      },
      "execution_count": 47,
      "outputs": []
    },
    {
      "cell_type": "code",
      "execution_count": 48,
      "metadata": {
        "id": "X7GLKM8DEKoJ",
        "outputId": "b43fc344-1ca7-4b98-a65e-8052c376783c",
        "colab": {
          "base_uri": "https://localhost:8080/"
        }
      },
      "outputs": [
        {
          "output_type": "stream",
          "name": "stdout",
          "text": [
            "[ 8 10]\n"
          ]
        }
      ],
      "source": [
        "a = np.array([5, 6])\n",
        "b = np.array([3, 4])\n",
        "\n",
        "print(a + b)"
      ]
    },
    {
      "cell_type": "code",
      "source": [
        "a = np.array([5, 6])\n",
        "b = np.array([3, 4])\n",
        "\n",
        "print(a - b)"
      ],
      "metadata": {
        "id": "YUqQ0ruRFdNg",
        "outputId": "521a8444-d9d9-4649-8219-0c988ebf3c6b",
        "colab": {
          "base_uri": "https://localhost:8080/"
        }
      },
      "execution_count": 49,
      "outputs": [
        {
          "output_type": "stream",
          "name": "stdout",
          "text": [
            "[2 2]\n"
          ]
        }
      ]
    },
    {
      "cell_type": "code",
      "source": [
        "a = np.array([1, 2])\n",
        "\n",
        "print(a * 3)"
      ],
      "metadata": {
        "id": "ZrslOpuVHvJj",
        "outputId": "b17233c8-d6e4-437f-9a66-3433b5c6344c",
        "colab": {
          "base_uri": "https://localhost:8080/"
        }
      },
      "execution_count": 50,
      "outputs": [
        {
          "output_type": "stream",
          "name": "stdout",
          "text": [
            "[3 6]\n"
          ]
        }
      ]
    },
    {
      "cell_type": "code",
      "source": [
        "a = np.array([5, 6])\n",
        "b = np.array([3, 4])\n",
        "\n",
        "print(a @ b)"
      ],
      "metadata": {
        "id": "wAMeKmKsJ0S4",
        "outputId": "aa2993a4-5c1d-4e4d-a5ee-f9fd662da526",
        "colab": {
          "base_uri": "https://localhost:8080/"
        }
      },
      "execution_count": 51,
      "outputs": [
        {
          "output_type": "stream",
          "name": "stdout",
          "text": [
            "39\n"
          ]
        }
      ]
    },
    {
      "cell_type": "code",
      "source": [
        "a = np.array([\n",
        "    [1, 2],\n",
        "    [4, 5]\n",
        "])\n",
        "\n",
        "b = np.array([\n",
        "    [9, 8],\n",
        "    [6, 5]\n",
        "])\n",
        "\n",
        "# 9 18\n",
        "# 24 25\n",
        "\n"
      ],
      "metadata": {
        "id": "cyfjg8Q0KZwa"
      },
      "execution_count": 52,
      "outputs": []
    },
    {
      "cell_type": "code",
      "source": [
        "print(a + b)"
      ],
      "metadata": {
        "id": "K67w3Is7KoB5",
        "outputId": "a8ba64f6-10ed-42ee-8c3f-598ae1d236e8",
        "colab": {
          "base_uri": "https://localhost:8080/"
        }
      },
      "execution_count": 53,
      "outputs": [
        {
          "output_type": "stream",
          "name": "stdout",
          "text": [
            "[[10 10]\n",
            " [10 10]]\n"
          ]
        }
      ]
    },
    {
      "cell_type": "code",
      "source": [
        "print(a - b)"
      ],
      "metadata": {
        "id": "76E_nEscKt8Z",
        "outputId": "c4b60157-5bf5-448c-e93a-379fb4b1af29",
        "colab": {
          "base_uri": "https://localhost:8080/"
        }
      },
      "execution_count": 54,
      "outputs": [
        {
          "output_type": "stream",
          "name": "stdout",
          "text": [
            "[[-8 -6]\n",
            " [-2  0]]\n"
          ]
        }
      ]
    },
    {
      "cell_type": "code",
      "source": [
        "print(a * b)"
      ],
      "metadata": {
        "id": "8cH-V7G2KscK",
        "outputId": "e90c8c77-40d2-4050-b8d1-116129f13427",
        "colab": {
          "base_uri": "https://localhost:8080/"
        }
      },
      "execution_count": 55,
      "outputs": [
        {
          "output_type": "stream",
          "name": "stdout",
          "text": [
            "[[ 9 16]\n",
            " [24 25]]\n"
          ]
        }
      ]
    },
    {
      "cell_type": "code",
      "source": [
        "print(a @ b)"
      ],
      "metadata": {
        "id": "2ecMpQ_hKyZU",
        "outputId": "dd59b752-69d6-4094-f55d-c9d79994c237",
        "colab": {
          "base_uri": "https://localhost:8080/"
        }
      },
      "execution_count": 56,
      "outputs": [
        {
          "output_type": "stream",
          "name": "stdout",
          "text": [
            "[[21 18]\n",
            " [66 57]]\n"
          ]
        }
      ]
    },
    {
      "cell_type": "code",
      "source": [
        "print(a)\n",
        "print(a.T)"
      ],
      "metadata": {
        "id": "gCEsh4MIS9sd",
        "outputId": "c68a8ad5-6e73-4de1-f1d8-884caf6e6373",
        "colab": {
          "base_uri": "https://localhost:8080/"
        }
      },
      "execution_count": 60,
      "outputs": [
        {
          "output_type": "stream",
          "name": "stdout",
          "text": [
            "[[1 2]\n",
            " [4 5]]\n",
            "[[1 4]\n",
            " [2 5]]\n"
          ]
        }
      ]
    },
    {
      "cell_type": "code",
      "source": [
        ""
      ],
      "metadata": {
        "id": "k0JQ0E0eK2uX",
        "outputId": "d11861e7-e6d5-4b6f-8e95-8185f50dcb6d",
        "colab": {
          "base_uri": "https://localhost:8080/"
        }
      },
      "execution_count": 58,
      "outputs": [
        {
          "output_type": "execute_result",
          "data": {
            "text/plain": [
              "array([[ 1,  4],\n",
              "       [16, 25]])"
            ]
          },
          "metadata": {},
          "execution_count": 58
        }
      ]
    }
  ],
  "metadata": {
    "language_info": {
      "name": "python"
    },
    "orig_nbformat": 4,
    "colab": {
      "name": "initial-part-1.ipynb",
      "provenance": []
    },
    "kernelspec": {
      "name": "python3",
      "display_name": "Python 3"
    }
  },
  "nbformat": 4,
  "nbformat_minor": 0
}